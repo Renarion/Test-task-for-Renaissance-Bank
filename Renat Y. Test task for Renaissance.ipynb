{
 "cells": [
  {
   "cell_type": "code",
   "execution_count": 1,
   "id": "863d690f",
   "metadata": {},
   "outputs": [],
   "source": [
    "import pandas as pd\n",
    "import numpy as np\n",
    "from pandasql import sqldf"
   ]
  },
  {
   "cell_type": "markdown",
   "id": "77277d0b",
   "metadata": {},
   "source": [
    "## 1. Необходимо вывести суммарное количество времени, которое сотрудник отсутствовал на рабочем месте за исключением обеденных перерывов, а также среднее время обеда. "
   ]
  },
  {
   "cell_type": "code",
   "execution_count": 2,
   "id": "ce2c03e2",
   "metadata": {},
   "outputs": [],
   "source": [
    "df_1 = pd.DataFrame({'name':['D', 'D', 'D', 'D', 'D', 'D', 'A', 'A', 'A', 'A', 'A', 'A'],\n",
    "                     'Day_number':[1,1,1,2,2,2,1,1,1,1,2,2],\n",
    "                     'Min':[15,20,63,55,20,15,0,60,5,10,20,45],\n",
    "                     'Dinner_flag':['Null', 'Null', 'Y', 'Y', 'Null', 'Null', 'Null', 'Y', 'Null', 'Null', 'Null', 'Y']   \n",
    "                    })"
   ]
  },
  {
   "cell_type": "code",
   "execution_count": 3,
   "id": "a18c0c18",
   "metadata": {},
   "outputs": [
    {
     "name": "stdout",
     "output_type": "stream",
     "text": [
      "Total off time:\n",
      "  name  Day_number  total_off_time\n",
      "0    A           1              15\n",
      "1    A           2              20\n",
      "2    D           1              35\n",
      "3    D           2              35\n",
      "---------------------------------\n",
      "Average dinner time:\n",
      "----------- Method 1 ------------\n",
      "  name  avg_dinner_time\n",
      "0    A             52.5\n",
      "1    D             59.0\n",
      "----------- Method 2 ------------\n",
      "  name  avg_dinner_time\n",
      "0    A             52.5\n",
      "1    D             59.0\n"
     ]
    }
   ],
   "source": [
    "task_1_1 =  \"\"\"SELECT name, Day_number, SUM (CASE WHEN Dinner_flag = 'Null' THEN min ELSE 0 END) AS total_off_time\n",
    "               FROM df_1\n",
    "               GROUP BY name, Day_number\n",
    "            \"\"\"\n",
    "\n",
    "#1_2_1\n",
    "\n",
    "task_1_2_1 = \"\"\"SELECT name, AVG (CASE WHEN Dinner_flag = 'Y' THEN Min ELSE 0 END) AS avg_dinner_time\n",
    "            FROM df_1\n",
    "            WHERE Dinner_flag = 'Y'\n",
    "            GROUP BY name\n",
    "             \"\"\"\n",
    "#1_2_2\n",
    "\n",
    "task_1_2_1 = \"\"\"WITH cte AS\n",
    "                (\n",
    "                SELECT name, CASE WHEN Dinner_flag = 'Y' THEN Min ELSE 0 END AS avg_dinner_time\n",
    "                FROM df_1\n",
    "                WHERE Dinner_flag = 'Y'\n",
    "                )\n",
    "          SELECT name, AVG (avg_dinner_time) AS avg_dinner_time\n",
    "          FROM cte\n",
    "          GROUP BY name\n",
    "             \"\"\"\n",
    "print('Total off time:')\n",
    "print (sqldf(task_1_1))\n",
    "print('---------------------------------')\n",
    "print('Average dinner time:')\n",
    "print('----------- Method 1 ------------')\n",
    "print (sqldf(task_1_2_1))\n",
    "print('----------- Method 2 ------------')\n",
    "print (sqldf(task_1_2_1))"
   ]
  },
  {
   "cell_type": "markdown",
   "id": "cc581887",
   "metadata": {},
   "source": [
    "## 2. Выведите строки с минимальной датой транзакции для каждой карты, используя оконные функции."
   ]
  },
  {
   "cell_type": "code",
   "execution_count": 4,
   "id": "e800b781",
   "metadata": {},
   "outputs": [],
   "source": [
    "TRANS_DT = ['23.01.2017', '30.03.2017', '30.03.2017', '02.04.2017', '22.01.2017', '01.02.2017', '05.02.2017', '08.02.2017', '27.01.2017', '16.09.2017', '16.09.2017', '03.10.2017', '23.12.2017', '26.12.2017', '27.12.2017', '14.01.2017']\n",
    "\n",
    "TRANS_DT_1 = []\n",
    "for i in range(len(TRANS_DT)):\n",
    "    TRANS_DT_1.append(TRANS_DT[i].replace('.', '-'))\n",
    "\n",
    "df_2 = pd.DataFrame({'TRANS_DT':TRANS_DT_1,\n",
    "                     'CARD_NUMBER':[516100009669, 516100009669, 516100009669, 516100009669, 516100004073, 516100004073, 516100004073, 516100004073, 531300007485, 520900005021, 520900005021, 520900005021, 520900003100, 520900003100, 520900003100, 516100003000],\n",
    "                     'TRANS_SUM':[92, 195.74, 692.94, 110,520, 700, 957.25, 700, 159.98, 'Null', 50, 'Null', 660.5, 508.15, 266.5, 1598],\n",
    "                     'MCC':[5411, 4900, 5399, 4812, 5411, 7997, 5541, 7997, 5921, 6011, 5812, 6011, 5411, 5411, 5411, 5691]   \n",
    "                    })\n",
    "df_2['TRANS_DT'] = pd.to_datetime(df_2['TRANS_DT'])\n",
    "df_2['TRANS_DT'] = df_2['TRANS_DT'].dt.date"
   ]
  },
  {
   "cell_type": "code",
   "execution_count": 5,
   "id": "0e6fece7",
   "metadata": {},
   "outputs": [
    {
     "name": "stdout",
     "output_type": "stream",
     "text": [
      "Minimum transaction date:\n",
      "----------- Method 1 ------------\n",
      "    CARD_NUMBER min_transaction_date\n",
      "0  516100003000           2017-01-14\n",
      "1  516100004073           2017-01-02\n",
      "2  516100009669           2017-01-23\n",
      "3  520900003100           2017-12-23\n",
      "4  520900005021           2017-03-10\n",
      "5  531300007485           2017-01-27\n",
      "----------- Method 2 ------------\n",
      "    CARD_NUMBER min_transaction_date\n",
      "0  516100003000           2017-01-14\n",
      "1  516100004073           2017-01-02\n",
      "2  516100009669           2017-01-23\n",
      "3  520900003100           2017-12-23\n",
      "4  520900005021           2017-03-10\n",
      "5  531300007485           2017-01-27\n"
     ]
    }
   ],
   "source": [
    "task_2 = \"\"\"SELECT DISTINCT CARD_NUMBER, MIN(TRANS_DT) OVER (PARTITION BY CARD_NUMBER) AS min_transaction_date\n",
    "            FROM df_2\n",
    "            ORDER BY CARD_NUMBER ASC;\n",
    "         \"\"\"\n",
    "task_2_1 = \"\"\"SELECT DISTINCT CARD_NUMBER, MIN(TRANS_DT) AS min_transaction_date\n",
    "            FROM df_2\n",
    "            GROUP BY CARD_NUMBER\n",
    "            ORDER BY CARD_NUMBER ASC;\n",
    "         \"\"\"\n",
    "\n",
    "print('Minimum transaction date:')\n",
    "print('----------- Method 1 ------------')\n",
    "print(sqldf(task_2))\n",
    "print('----------- Method 2 ------------')\n",
    "print(sqldf(task_2_1))"
   ]
  },
  {
   "cell_type": "markdown",
   "id": "6d41172c",
   "metadata": {},
   "source": [
    "## 3. Клиенты могут брать в долг, копить, либо одновременно и копить и иметь кредиты: Баланс клиента = сумма депозитов клиента – сумма кредитов клиента \n",
    "## Необходимо узнать: А) Какая доля клиентов имеет положительный баланс? Б) Вывести распределение положительных балансов по бакетам: 0-100 тыс., 100-300 тыс., более 300 тыс."
   ]
  },
  {
   "cell_type": "code",
   "execution_count": 6,
   "id": "09c66ae1",
   "metadata": {},
   "outputs": [],
   "source": [
    "df_3 = pd.DataFrame({'id_credit':[458000263, 468010954, 773002215],\n",
    "                     'id_client':[100001, 100001, 100002],\n",
    "                     'type':['cash', 'credit card', 'credit card'],\n",
    "                     'balance':[250000, 70000, 50000]   \n",
    "                    }, index=[0,1,2])\n",
    "\n",
    "df_3_1 = pd.DataFrame({'id_deposit':[640025673, 330000456, 468030123],\n",
    "                     'id_client':[100006, 100007, 100002],\n",
    "                     'type':['deposit', 'invest', 'debit card'],\n",
    "                     'balance':[600000, 130000, 16000]   \n",
    "                    }, index=[4,3,2])\n",
    "\n",
    "df_3 = df_3.rename(columns={'id_client':'id_client_credit', 'type':'type_credit', 'balance':'balance_credit'})\n",
    "df_3_1 = df_3_1.rename(columns={'id_client':'id_client_deposit', 'type':'type_deposit', 'balance':'balance_deposit'})\n",
    "df_3_full_join = pd.concat([df_3_1, df_3], join='outer', axis=1)\n",
    "df_3_full_join = df_3_full_join.fillna(0)\n",
    "df_3_full_join['id_credit'] = df_3_full_join['id_credit'].astype('int')\n",
    "df_3_full_join['id_client_credit'] = df_3_full_join['id_client_credit'].astype('int')\n",
    "df_3_full_join['id_deposit'] = df_3_full_join['id_deposit'].astype('int')\n",
    "df_3_full_join['id_client_deposit'] = df_3_full_join['id_client_deposit'].astype('int')\n",
    "df_3_full_join = df_3_full_join.fillna('Null')"
   ]
  },
  {
   "cell_type": "code",
   "execution_count": 7,
   "id": "485c087a",
   "metadata": {},
   "outputs": [
    {
     "name": "stdout",
     "output_type": "stream",
     "text": [
      "share of client that have positive balance: 40%\n",
      "------------------------------------------------------------------\n",
      "Positive balance by bucket:\n"
     ]
    },
    {
     "data": {
      "text/html": [
       "<div>\n",
       "<style scoped>\n",
       "    .dataframe tbody tr th:only-of-type {\n",
       "        vertical-align: middle;\n",
       "    }\n",
       "\n",
       "    .dataframe tbody tr th {\n",
       "        vertical-align: top;\n",
       "    }\n",
       "\n",
       "    .dataframe thead th {\n",
       "        text-align: right;\n",
       "    }\n",
       "</style>\n",
       "<table border=\"1\" class=\"dataframe\">\n",
       "  <thead>\n",
       "    <tr style=\"text-align: right;\">\n",
       "      <th></th>\n",
       "      <th>id_client_deposit</th>\n",
       "      <th>segments</th>\n",
       "    </tr>\n",
       "  </thead>\n",
       "  <tbody>\n",
       "    <tr>\n",
       "      <th>0</th>\n",
       "      <td>100007</td>\n",
       "      <td>100-300k</td>\n",
       "    </tr>\n",
       "    <tr>\n",
       "      <th>1</th>\n",
       "      <td>100006</td>\n",
       "      <td>Over 300k</td>\n",
       "    </tr>\n",
       "  </tbody>\n",
       "</table>\n",
       "</div>"
      ],
      "text/plain": [
       "   id_client_deposit   segments\n",
       "0             100007   100-300k\n",
       "1             100006  Over 300k"
      ]
     },
     "execution_count": 7,
     "metadata": {},
     "output_type": "execute_result"
    }
   ],
   "source": [
    "task_3_share = \"\"\"SELECT over_zero:NUMERIC / total_clients::NUMERIC *100 AS share_of_over_zero \n",
    "             FROM (  SELECT *, \n",
    "                    (balance_deposit-balance_credit) AS total_balance, \n",
    "                     COUNT (*) OVER () AS total_clients, \n",
    "                     SUM(CASE WHEN total_balance > 0 THEN 1 ELSE 0 END) AS over_zero,\n",
    "                     SUM(CASE WHEN total_balance < 0 THEN 1 ELSE 0 END) AS less_zero\n",
    "            FROM df_3 a\n",
    "            FULL JOIN df_3_1 b\n",
    "            ) a\n",
    "            ;\n",
    "         \"\"\"\n",
    "print('share of client that have positive balance: 40%')\n",
    "\n",
    "task_3_bucket_1 = \"\"\"SELECT *, CASE WHEN (balance_deposit-balance_credit)>0 AND (balance_deposit-balance_credit) BETWEEN 0 AND 100000 THEN '0-100k'\n",
    "                                  WHEN (balance_deposit-balance_credit)>0 AND (balance_deposit-balance_credit) BETWEEN 100000 AND 300000 THEN '100-300k'\n",
    "                                  WHEN (balance_deposit-balance_credit)>0 AND (balance_deposit-balance_credit) > 300000 THEN 'Over 300k'\n",
    "                                  ELSE 'Negative balance'\n",
    "                                  END segments\n",
    "                   FROM df_3_full_join\n",
    "            ; \n",
    "         \"\"\"\n",
    "task_3_bucket_2 = \"\"\"SELECT id_client_deposit, segments\n",
    "                     FROM (\n",
    "                             SELECT *, (balance_deposit-balance_credit) AS total_balance,\n",
    "                             CASE WHEN (balance_deposit-balance_credit)>0 AND (balance_deposit-balance_credit) BETWEEN 0 AND 100000 THEN '0-100k'\n",
    "                                  WHEN (balance_deposit-balance_credit)>0 AND (balance_deposit-balance_credit) BETWEEN 100000 AND 300000 THEN '100-300k'\n",
    "                                  WHEN (balance_deposit-balance_credit)>0 AND (balance_deposit-balance_credit) > 300000 THEN 'Over 300k'\n",
    "                                  END segments\n",
    "                     FROM df_3_full_join\n",
    "                     ) a\n",
    "                     WHERE total_balance >=0\n",
    "            ; \n",
    "         \"\"\"\n",
    "\n",
    "print('------------------------------------------------------------------')\n",
    "print('Positive balance by bucket:')\n",
    "sqldf(task_3_bucket_2)"
   ]
  },
  {
   "cell_type": "markdown",
   "id": "7b0ed53c",
   "metadata": {},
   "source": [
    "## 4. Отток по картам составляет 4%* в месяц. Каков средний срок жизни карты?\n",
    "### * 4% от активных карт на начало месяца закрываются в течение месяца"
   ]
  },
  {
   "cell_type": "code",
   "execution_count": 8,
   "id": "314725af",
   "metadata": {},
   "outputs": [
    {
     "name": "stdout",
     "output_type": "stream",
     "text": [
      "Method 1: ACL = 25 months\n",
      "------------------------------------------\n",
      "Method 2: ACL = 25 months\n"
     ]
    }
   ],
   "source": [
    "# Attempt 1\n",
    "\n",
    "churn_rate = 0.04 # 4% \n",
    "final_formula = int(1 / churn_rate) # 100% / Churn rate = Average Customer Lifetime\n",
    "\n",
    "print(f'Method 1: ACL = {final_formula} months')\n",
    "\n",
    "# Attempt 2\n",
    "\n",
    "qty_of_card = 1000 # for example we've got 1000 card\n",
    "share_of_churn = qty_of_card * churn_rate\n",
    "absolut_churn = 0\n",
    "total_absolut_churn = []\n",
    "counts = 0\n",
    "\n",
    "while absolut_churn < qty_of_card:\n",
    "    absolut_churn += share_of_churn\n",
    "    counts += 1\n",
    "    \n",
    "print('------------------------------------------')    \n",
    "print(f'Method 2: ACL = {int(counts)} months')  "
   ]
  }
 ],
 "metadata": {
  "kernelspec": {
   "display_name": "Python 3",
   "language": "python",
   "name": "python3"
  },
  "language_info": {
   "codemirror_mode": {
    "name": "ipython",
    "version": 3
   },
   "file_extension": ".py",
   "mimetype": "text/x-python",
   "name": "python",
   "nbconvert_exporter": "python",
   "pygments_lexer": "ipython3",
   "version": "3.7.3"
  },
  "toc": {
   "base_numbering": 1,
   "nav_menu": {},
   "number_sections": false,
   "sideBar": false,
   "skip_h1_title": false,
   "title_cell": "Table of Contents",
   "title_sidebar": "Contents",
   "toc_cell": false,
   "toc_position": {},
   "toc_section_display": false,
   "toc_window_display": false
  }
 },
 "nbformat": 4,
 "nbformat_minor": 5
}
